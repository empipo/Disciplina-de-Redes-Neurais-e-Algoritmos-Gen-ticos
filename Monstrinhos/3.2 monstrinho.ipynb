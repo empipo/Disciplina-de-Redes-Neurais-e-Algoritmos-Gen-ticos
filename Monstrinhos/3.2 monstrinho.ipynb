{
 "cells": [
  {
   "cell_type": "markdown",
   "metadata": {},
   "source": [
    "### Nome: Emanuel Piveta Pozzobon\n",
    "#### Turma: GAMA\n",
    "#### ID: 24039\n",
    "\n",
    "#### _<center>Ilum - Escola de Ciência. Campinas, SP. 2024</center>_\n",
    "\n",
    "------------\n",
    "\n",
    "### Monstrinho 3.2 - “Átomos não são bolinhas e ligações químicas não são pauzinhos” — Prof. Julio\n",
    "\n",
    "**Objetivo:**\n",
    "Utilize classes de Python para modelar elementos químicos e moléculas.\n",
    "Considerações do experimento: Crie uma classe chamada Elemento. Todo elemento químico utilizado nesta tarefa deve ser uma instância desta classe. Toda instância\n",
    "da classe Elemento deve ter os seguintes atributos: símbolo do elemento, número atômico\n",
    "do elemento e peso atômico do elemento (fique à vontade para incluir outras informações\n",
    "se quiser). Crie uma classe chamada Molecula. Esta classe deve receber um dicionário\n",
    "onde as chaves representam os elementos e os valores representam a quantidade do respectivo elemento. A classe Molecula deve ter um método capaz de exibir o peso atômico\n",
    "3\n",
    "da molécula criada e um método capaz gerar uma fórmula química (em string) para esta\n",
    "molécula.\n",
    "\n",
    "**Observação:**\n",
    "não é necessário que a fórmula química siga as regras oficiais da química,\n",
    "basta representar os elementos existentes e suas quantidades.\n",
    "\n",
    "\n",
    "----\n"
   ]
  },
  {
   "cell_type": "markdown",
   "metadata": {},
   "source": [
    "Primeiramente, será criado a classe Elemento com seus respectivos atributos."
   ]
  },
  {
   "cell_type": "code",
   "execution_count": 1,
   "metadata": {},
   "outputs": [],
   "source": [
    "class Elemento:\n",
    "    '''\n",
    "    Classe que cria instâncias que possuem informações de elementos químicos: símbolo, número atômico, \n",
    "    peso atômico e eletronegatividade\n",
    "    '''\n",
    "    def __init__(self, nome, simbolo, numero_atomico, peso_atomico, eletronegatividade):\n",
    "        #Criar os atributos\n",
    "        self.nome = nome\n",
    "        self.simbolo = simbolo\n",
    "        self.numero_atomico = numero_atomico\n",
    "        self.peso_atomico = peso_atomico\n",
    "        self.eletronegatividade = eletronegatividade\n",
    "    \n",
    "    def __repr__(self) -> str:\n",
    "        return '''O elemento {} representado pelo símbolo {} possui número atômico igual a {},\n",
    "seu peso atômico é {} e sua eletronegatividade é {} '''.format(self.nome, self.simbolo, self.numero_atomico, self.peso_atomico, self.eletronegatividade)"
   ]
  },
  {
   "cell_type": "markdown",
   "metadata": {},
   "source": [
    "Utilizando o print é possível obter as informações do elemento"
   ]
  },
  {
   "cell_type": "code",
   "execution_count": 2,
   "metadata": {},
   "outputs": [
    {
     "name": "stdout",
     "output_type": "stream",
     "text": [
      "O elemento Carbono representado pelo símbolo C possui número atômico igual a 6,\n",
      "seu peso atômico é 12.011 e sua eletronegatividade é 2.55 \n",
      "O elemento Hidrogênio representado pelo símbolo H possui número atômico igual a 1,\n",
      "seu peso atômico é 1.008 e sua eletronegatividade é 2.2 \n",
      "O elemento Oxigênio representado pelo símbolo O possui número atômico igual a 8,\n",
      "seu peso atômico é 15.999 e sua eletronegatividade é 3.44 \n"
     ]
    }
   ],
   "source": [
    "carbono = Elemento(\"Carbono\", \"C\", 6, 12.011, 2.55)\n",
    "hidrogenio = Elemento(\"Hidrogênio\", \"H\", 1, 1.008, 2.20)\n",
    "oxigenio = Elemento(\"Oxigênio\", \"O\", 8, 15.999, 3.44)\n",
    "\n",
    "print(carbono)\n",
    "print(hidrogenio)\n",
    "print(oxigenio)"
   ]
  },
  {
   "cell_type": "markdown",
   "metadata": {},
   "source": [
    "Queremos, a partir dessa classe formar um dicionário que contenha uma representação do elemento para informar a quem estamos nos referindo, e a quantidade desse átomo presente na molécula. E esse dicionário utilizará como chaves objetos que são classe Elemento.\n",
    "\n",
    "Exemplo: Átomos da molécula metanol"
   ]
  },
  {
   "cell_type": "code",
   "execution_count": 3,
   "metadata": {},
   "outputs": [],
   "source": [
    "dicionario_exemplo = {\n",
    "    carbono: 1,\n",
    "    hidrogenio: 4,\n",
    "    oxigenio: 1,\n",
    "}"
   ]
  },
  {
   "cell_type": "markdown",
   "metadata": {},
   "source": [
    "Vamos agora criar a classe molécula que receberá esse dicionário e terá uma função que printará a fórmula química e fornecerá o peso atômico da molécula do dicionário."
   ]
  },
  {
   "cell_type": "code",
   "execution_count": 4,
   "metadata": {},
   "outputs": [],
   "source": [
    "class Molecula:\n",
    "    def __init__(self, dicionario):\n",
    "        \n",
    "        self.dicionario = dicionario \n",
    "    \n",
    "    # Função para calcular o peso atômico\n",
    "    def calcular_peso_atomico(self):\n",
    "        peso_atomico = 0\n",
    "        for chave, valor in self.dicionario.items():\n",
    "            peso_atomico = (chave.peso_atomico * valor)\n",
    "            return peso_atomico\n",
    "            \n",
    "\n",
    "    # Função para printar a fórmula química\n",
    "    def formula_quimica(self):\n",
    "        formula = \"\"\n",
    "        for chave, valor in self.dicionario.items():\n",
    "            \n",
    "            formula += (chave.simbolo if valor == 1 else chave.simbolo + str(valor))\n",
    "\n",
    "        return formula"
   ]
  },
  {
   "cell_type": "code",
   "execution_count": 5,
   "metadata": {},
   "outputs": [
    {
     "name": "stdout",
     "output_type": "stream",
     "text": [
      "A fórmula da molécula é: CH4O\n",
      "O peso atômico é: 12.011\n"
     ]
    }
   ],
   "source": [
    "molecula = Molecula(dicionario_exemplo)\n",
    "print(\"A fórmula da molécula é: {}\".format(molecula.formula_quimica()))\n",
    "print(\"O peso atômico é: {}\".format(molecula.calcular_peso_atomico()))"
   ]
  },
  {
   "cell_type": "markdown",
   "metadata": {},
   "source": [
    "### Conclusão: \n",
    "\n",
    "Assim, foi possível escrever a fórmula e o peso atômico da molécula a partir do dicionário. E isso foi feito primeiramente graças ao fato de utilizar os atributos da classe Elemento contido nas chaves do dicionário. Além disso, a ideia de concatenação de strings e o fato de transformar os número em strings possibilitaram o print da fórmula química."
   ]
  },
  {
   "cell_type": "markdown",
   "metadata": {},
   "source": [
    "### Referências:\n",
    "\n",
    "[1] https://chatgpt.com/share/67d97eba-70f0-800d-8085-b737b35a04fb"
   ]
  }
 ],
 "metadata": {
  "kernelspec": {
   "display_name": "base",
   "language": "python",
   "name": "python3"
  },
  "language_info": {
   "codemirror_mode": {
    "name": "ipython",
    "version": 3
   },
   "file_extension": ".py",
   "mimetype": "text/x-python",
   "name": "python",
   "nbconvert_exporter": "python",
   "pygments_lexer": "ipython3",
   "version": "3.11.5"
  }
 },
 "nbformat": 4,
 "nbformat_minor": 2
}
