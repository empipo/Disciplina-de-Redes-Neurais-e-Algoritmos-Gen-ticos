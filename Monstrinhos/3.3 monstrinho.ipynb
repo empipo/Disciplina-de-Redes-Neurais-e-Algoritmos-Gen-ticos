{
 "cells": [
  {
   "cell_type": "markdown",
   "metadata": {},
   "source": [
    "### Nome: Emanuel Piveta Pozzobon\n",
    "#### Turma: GAMA\n",
    "#### ID: 24039\n",
    "\n",
    "#### _<center>Ilum - Escola de Ciência. Campinas, SP. 2024</center>_\n",
    "\n",
    "------------\n",
    "\n",
    "### Monstrinho 3.3 - Classes em Python não pagam imposto sobre herança\n",
    "\n",
    "**Objetivo:** \n",
    "Modele algum conceito científico utilizando herança de classes.\n",
    "\n",
    "**Considerações do experimento:**\n",
    "O uso da herança de classes deve fazer sentido\n",
    "dentro do contexto científico escolhido, isto é, deve haver uma justificativa bem embasada\n",
    "para o uso de herança de classes na sua entrega. Certifique-se que a classe mãe tem pelo\n",
    "menos um método que não seja dunder para ser herdado pela classe filha. Garanta que a\n",
    "classe filha tem pelo menos um método (dunder ou não) que justifique a sua criação.\n",
    "\n",
    "\n",
    "----"
   ]
  },
  {
   "cell_type": "markdown",
   "metadata": {},
   "source": [
    "### Introdução\n",
    "\n",
    "Como proposta de conceito científico a ser resolvido, usando herança de classes, será o movimento na física clássica descrito pelas leis de newton. O objetivo da mecânica clássica é encontrar $x(t)$, isto é, a função da posição em relação a evolução temporal. Encontra-se essa função aplicando:\n",
    "\n",
    "$$\n",
    "F = m a\n",
    "$$\n",
    "\n",
    "que pode ser reescrita como:\n",
    "\n",
    "$$\n",
    "F = - \\frac{\\partial V}{\\partial x} = m \\frac{d x^2}{d t}\n",
    "$$\n",
    "\n",
    "Será criado a classe Mãe chamada de Movimento que precisará das informações Força em Newtons e massa em gramas e ela terá um método que calculará a aceleração. Posteriormente haverá duas classes filhas chamadas de Movimento_Uniforme e Movimento_Uniformemente_Acelerado, a primeira calculará a função da posição para um movimento com velocidade constante, no qual a aceleração resultante é zero, e a segunda calculará a função $x(t)$ para movimento com acelerações diferentes de zero. \n",
    "A ideia original desse problema foi formulada pelo chatGPT [1]"
   ]
  },
  {
   "cell_type": "markdown",
   "metadata": {},
   "source": [
    "------\n",
    "### Resolução:"
   ]
  },
  {
   "cell_type": "code",
   "execution_count": 9,
   "metadata": {},
   "outputs": [],
   "source": [
    "class Movimento:\n",
    "    '''Classe que possui as informações de força e massa da partícula e pode calcular sua aceleração'''\n",
    "    def __init__(self, nome, massa, forca):\n",
    "        self.nome = nome\n",
    "        self.massa = massa\n",
    "        self.forca = forca\n",
    "    \n",
    "    def aceleracao(self):\n",
    "        aceleracao = self.forca / self.massa\n",
    "        return aceleracao\n",
    "    \n",
    "    def __repr__(self):\n",
    "        return ('''O seu objeto {} possui {} gramas e sofreu uma força de {} Newtons, \n",
    "adquirindo uma aceleração {} m/s² para o seu movimento'''.format(self.nome, self.massa, self.forca, self.aceleracao()))\n",
    "    "
   ]
  },
  {
   "cell_type": "markdown",
   "metadata": {},
   "source": [
    "Um teste para uma instância dessa classe:"
   ]
  },
  {
   "cell_type": "code",
   "execution_count": 10,
   "metadata": {},
   "outputs": [
    {
     "name": "stdout",
     "output_type": "stream",
     "text": [
      "O seu objeto pedrinho possui 73000 gramas e sofreu uma força de 10 Newtons, \n",
      "adquirindo uma aceleração 0.000136986301369863 m/s² para o seu movimento\n"
     ]
    }
   ],
   "source": [
    "teste = Movimento('pedrinho', 73000, 10)\n",
    "print(teste)"
   ]
  },
  {
   "cell_type": "markdown",
   "metadata": {},
   "source": [
    "Agora vai ser criado as classes filhas:\n"
   ]
  },
  {
   "cell_type": "code",
   "execution_count": 11,
   "metadata": {},
   "outputs": [],
   "source": [
    "class Movimento_Uniforme(Movimento):\n",
    "    '''Será calculado x(t) = xo + vt, sendo xo a posição inicial em metros, v a velocidade constante em m/s e t o tempo em s'''\n",
    "    \n",
    "    def __init__(self, nome, massa, forca, velocidade_constante, tempo, posicao_inicial):\n",
    "        \n",
    "        super().__init__(nome, massa, forca)\n",
    "        \n",
    "        self.velocidade_constante = velocidade_constante\n",
    "        self.tempo = tempo\n",
    "        self.posicao_inicial = posicao_inicial\n",
    "        \n",
    "    def posicao(self):\n",
    "        if self.aceleracao() == 0:\n",
    "            x = self.posicao_inicial + (self.velocidade_constante * self.tempo)\n",
    "            return x\n",
    "        else:\n",
    "            self.__repr__()\n",
    "    \n",
    "    def __repr__(self):\n",
    "        if self.aceleracao() == 0:\n",
    "            return '''O objeto {} que começou seu movimento na posição inicial {} metros,\n",
    "com velocidade constante de {} m/s, durante {} segundos, foi encontrado na posição {} metros'''.format(\n",
    "            self.nome, self.posicao_inicial, self.velocidade_constante, self.tempo, self.posicao()\n",
    "        )\n",
    "        else: \n",
    "            return '''Movimento não é uniforme e ele não possui a velocidade constante constatada, pois tem uma força agindo sobre ele.'''\n",
    "            "
   ]
  },
  {
   "cell_type": "markdown",
   "metadata": {},
   "source": [
    "Teste com movimento uniforme para essa classe:\n"
   ]
  },
  {
   "cell_type": "code",
   "execution_count": 12,
   "metadata": {},
   "outputs": [
    {
     "name": "stdout",
     "output_type": "stream",
     "text": [
      "O objeto pedrinho que começou seu movimento na posição inicial 0 metros,\n",
      "com velocidade constante de 32 m/s, durante 10 segundos, foi encontrado na posição 320 metros\n"
     ]
    }
   ],
   "source": [
    "teste_1 = Movimento_Uniforme('pedrinho', 73000, 0, 32, 10, 0)\n",
    "print(teste_1)"
   ]
  },
  {
   "cell_type": "markdown",
   "metadata": {},
   "source": [
    "Teste com movimento não uniforme para essa classe:"
   ]
  },
  {
   "cell_type": "code",
   "execution_count": 13,
   "metadata": {},
   "outputs": [
    {
     "name": "stdout",
     "output_type": "stream",
     "text": [
      "Movimento não é uniforme e ele não possui a velocidade constante constatada, pois tem uma força agindo sobre ele.\n"
     ]
    }
   ],
   "source": [
    "teste_2 = Movimento_Uniforme('pedrinho', 73000, 10, 32, 10, 0)\n",
    "print(teste_2)"
   ]
  },
  {
   "cell_type": "markdown",
   "metadata": {},
   "source": [
    "Classe filha para o movimento uniformemente acelerado:\n"
   ]
  },
  {
   "cell_type": "code",
   "execution_count": 14,
   "metadata": {},
   "outputs": [],
   "source": [
    "class Movimento_Uniformemente_Acelerado(Movimento):\n",
    "    '''Essa classe terá como foco o cálculo da função da posição para movimentos uniformemente acelerado:\n",
    "    x(t) = xo + vot + at²/2, no qual xo é a posição inicial, vo é a velocidade inicial, t é o tempo, a é a aceleração'''\n",
    "    \n",
    "    def __init__(self, nome, massa, forca, velocidade_inicial, tempo, posicao_inicial):\n",
    "        super().__init__(nome, massa, forca)\n",
    "        \n",
    "        self.velocidade_inicial = velocidade_inicial\n",
    "        self.tempo = tempo\n",
    "        self.posicao_inicial = posicao_inicial\n",
    "\n",
    "        \n",
    "    def posicao_acelerado(self):\n",
    "        if self.aceleracao() != 0:\n",
    "            x = self.posicao_inicial + (self.velocidade_inicial * self.tempo) + (self.aceleracao() * self.tempo ** 2)/2\n",
    "            return x\n",
    "        else:\n",
    "            self.__repr__\n",
    "    \n",
    "    def __repr__(self):\n",
    "        if self.aceleracao() != 0:\n",
    "            return '''O objeto {} que começou seu movimento com velocidade inicial igual a {} m/s na\n",
    "posição inicial {} metros, adquiriu aceleração igual {} m/s² e terminou seu movimento em {} metros no tempo {}'''.format(\n",
    "            self.nome, self.velocidade_inicial, self.posicao_inicial, self.aceleracao(), self.posicao_acelerado(), self.tempo\n",
    "        )\n",
    "        else:\n",
    "            return '''O movimento não é uniformemente acelerado, pois possui aceleração igual a 0.'''\n",
    "        \n",
    "    "
   ]
  },
  {
   "cell_type": "markdown",
   "metadata": {},
   "source": [
    "Teste com objeto em movimento uniformemente acelerado:"
   ]
  },
  {
   "cell_type": "code",
   "execution_count": 15,
   "metadata": {},
   "outputs": [
    {
     "name": "stdout",
     "output_type": "stream",
     "text": [
      "O objeto pedrinho que começou seu movimento com velocidade inicial igual a 32 m/s na\n",
      "posição inicial 0 metros, adquiriu aceleração igual 0.000136986301369863 m/s² e terminou seu movimento em 320.0068493150685 metros no tempo 10\n"
     ]
    }
   ],
   "source": [
    "teste_3 = Movimento_Uniformemente_Acelerado('pedrinho', 73000, 10, 32, 10, 0)\n",
    "print(teste_3)\n"
   ]
  },
  {
   "cell_type": "markdown",
   "metadata": {},
   "source": [
    "Teste com ojetivo em movimento uniforme:"
   ]
  },
  {
   "cell_type": "code",
   "execution_count": 16,
   "metadata": {},
   "outputs": [
    {
     "name": "stdout",
     "output_type": "stream",
     "text": [
      "O movimento não é uniformemente acelerado, pois possui aceleração igual a 0.\n"
     ]
    }
   ],
   "source": [
    "teste_4 = Movimento_Uniformemente_Acelerado('pedrinho', 73000, 0, 32, 10, 0)\n",
    "print(teste_4)"
   ]
  },
  {
   "cell_type": "markdown",
   "metadata": {},
   "source": [
    "----\n",
    "\n",
    "### Conclusão:"
   ]
  },
  {
   "cell_type": "markdown",
   "metadata": {},
   "source": [
    "Portanto, é possível dizer que heranças de classes permitem a resolução de diversos problemas científicos, e o problema apresentado nesse notebook é um problema matemático/físico, no qual a herança de classes possibilitou que as variáveis das equações pudessem ser trabalhadas de forma que somente os cálculos oportunos fossem realizados para o cálculo da posição. Exemplificando, se o usuário fornecesse dados iniciais em que a aceleração fosse zero, isso impossiblita um movimento uniformemente acelerado e não deve ser calculado a função da posição usando a lei apresentada para isso, mas deveria sim utilizar a expressão do movimento uniforme nesse caso. Assim como, se o usuário fornecesse um objeto com movimento com aceleração diferente de 0, isso impossibilita um cálculo do movimento uniforme. E as classes foram construídas aqui no mesmo sentido. "
   ]
  },
  {
   "cell_type": "markdown",
   "metadata": {},
   "source": [
    "----\n",
    "\n",
    "### Referências:\n",
    "\n",
    "[1] Chatgpt. Disponível em: https://chatgpt.com/share/67e29ed2-ff44-800d-b2aa-8187be1a3804. Acesso em: 12 de jun. de 2025."
   ]
  }
 ],
 "metadata": {
  "kernelspec": {
   "display_name": "base",
   "language": "python",
   "name": "python3"
  },
  "language_info": {
   "codemirror_mode": {
    "name": "ipython",
    "version": 3
   },
   "file_extension": ".py",
   "mimetype": "text/x-python",
   "name": "python",
   "nbconvert_exporter": "python",
   "pygments_lexer": "ipython3",
   "version": "3.11.5"
  }
 },
 "nbformat": 4,
 "nbformat_minor": 2
}
